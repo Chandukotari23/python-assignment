{
  "nbformat": 4,
  "nbformat_minor": 0,
  "metadata": {
    "colab": {
      "provenance": []
    },
    "kernelspec": {
      "name": "python3",
      "display_name": "Python 3"
    },
    "language_info": {
      "name": "python"
    }
  },
  "cells": [
    {
      "cell_type": "code",
      "source": [
        "import math\n",
        "\n",
        "def min_time_to_send_groups(groups, planes):\n",
        "    # Sort the groups and planes in descending order\n",
        "    groups.sort(reverse=True)\n",
        "    planes.sort(reverse=True)\n",
        "\n",
        "    num_groups = len(groups)\n",
        "    num_planes = len(planes)\n",
        "\n",
        "    # If there are fewer planes than groups, it's not possible to send all groups\n",
        "    if num_planes < num_groups:\n",
        "        return -1\n",
        "\n",
        "    # Calculate the total time required\n",
        "    total_time = 0\n",
        "\n",
        "    # Iterate over the groups\n",
        "    for i in range(num_groups):\n",
        "        group_size = groups[i]\n",
        "        plane_capacity = planes[i]\n",
        "\n",
        "        # Calculate the number of trips required for the current group\n",
        "        trips = math.ceil(group_size / plane_capacity)\n",
        "\n",
        "        # Update the total time\n",
        "        total_time = max(total_time, trips)\n",
        "\n",
        "    return total_time\n",
        "\n",
        "# Example usage:\n",
        "groups = [8, 1, 6, 9]\n",
        "planes = [7, 3, 2]\n",
        "result = min_time_to_send_groups(groups, planes)\n",
        "print( result)"
      ],
      "metadata": {
        "colab": {
          "base_uri": "https://localhost:8080/"
        },
        "id": "roUCH3jNAwaC",
        "outputId": "31efda2f-a992-4122-b486-4ff6d6f46e06"
      },
      "execution_count": 9,
      "outputs": [
        {
          "output_type": "stream",
          "name": "stdout",
          "text": [
            "-1\n"
          ]
        }
      ]
    },
    {
      "cell_type": "code",
      "source": [],
      "metadata": {
        "id": "_t4d-8RLDN_2"
      },
      "execution_count": null,
      "outputs": []
    },
    {
      "cell_type": "code",
      "source": [
        "def count_candy_sets(N):\n",
        "    count = 0\n",
        "    i = 1\n",
        "    while (i * (i + 1)) // 2 <= N:\n",
        "        if N % i == 0 and (N // i) % 2 == 1:\n",
        "            count += 1\n",
        "        i += 1\n",
        "    return count\n",
        "\n",
        "# Example usage:\n",
        "N = int(input(\"Enter the number of candies Alice wants: \"))\n",
        "result = count_candy_sets(N)\n",
        "print(result)"
      ],
      "metadata": {
        "id": "v_21-RIUDOO7"
      },
      "execution_count": null,
      "outputs": []
    },
    {
      "cell_type": "code",
      "source": [
        "import threading\n",
        "\n",
        "# Factorial function using recursion\n",
        "def factorial_recursive(n):\n",
        "    if n == 0:\n",
        "        return 1\n",
        "    else:\n",
        "        return n * factorial_recursive(n - 1)\n",
        "\n",
        "# Factorial function caller using thread\n",
        "def factorial_threaded(n):\n",
        "    result = None\n",
        "\n",
        "    # Function to be executed by the thread\n",
        "    def factorial_thread():\n",
        "        nonlocal result\n",
        "        result = factorial_recursive(n)\n",
        "\n",
        "    # Create a thread\n",
        "    thread = threading.Thread(target=factorial_thread)\n",
        "\n",
        "    # Start the thread\n",
        "    thread.start()\n",
        "\n",
        "    # Wait for the thread to finish\n",
        "    thread.join()\n",
        "\n",
        "    return result\n",
        "\n",
        "# Example usage:\n",
        "n = int(input(\"Enter an integer to calculate its factorial: \"))\n",
        "result = factorial_threaded(n)\n",
        "print(\"Factorial of\", n, \"is:\", result)"
      ],
      "metadata": {
        "id": "3vQJMDr4D9Tj"
      },
      "execution_count": null,
      "outputs": []
    }
  ]
}